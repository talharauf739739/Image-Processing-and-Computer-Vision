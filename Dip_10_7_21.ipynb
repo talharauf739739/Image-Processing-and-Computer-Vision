{
  "nbformat": 4,
  "nbformat_minor": 0,
  "metadata": {
    "colab": {
      "name": "Dip_10_7_21.ipynb",
      "provenance": [],
      "collapsed_sections": []
    },
    "kernelspec": {
      "name": "python3",
      "display_name": "Python 3"
    },
    "language_info": {
      "name": "python"
    }
  },
  "cells": [
    {
      "cell_type": "code",
      "metadata": {
        "colab": {
          "base_uri": "https://localhost:8080/"
        },
        "id": "XIHYefqbsiwA",
        "outputId": "26ea85d3-728b-4e3d-a4d9-1309f894b916"
      },
      "source": [
        "#!pip install opencv-python\n",
        "\n",
        "\n",
        "import os\n",
        "#import cv2 as cv\n",
        "import cv2\n",
        "from google.colab.patches import cv2_imshow\n",
        "import glob as gb\n",
        "path=\"/content/drive/MyDrive/talha_dip\"\n",
        "main_folder = os.listdir(path)\n",
        "#picture = os.listdir(main_folder)\n",
        "img_list = []\n",
        "edge_list = []\n",
        "folder_label=[]\n",
        "for n in range(0,len(main_folder)):\n",
        "  pics = path + \"/\" + main_folder[n]\n",
        "  for m in os.listdir(pics):\n",
        "    x = pics + \"/\" + m\n",
        "    img_list.append(x)\n",
        "    folder_belonging.append(pics)\n",
        "    print(pics)\n",
        "    folder_label.append(main_folder[n])\n",
        "print(path)\n",
        "print(folder_label)\n",
        "#print(img_list)\n",
        "\n"
      ],
      "execution_count": null,
      "outputs": [
        {
          "output_type": "stream",
          "name": "stdout",
          "text": [
            "/content/drive/MyDrive/talha_dip/B\n",
            "/content/drive/MyDrive/talha_dip/B\n",
            "/content/drive/MyDrive/talha_dip/B\n",
            "/content/drive/MyDrive/talha_dip/B\n",
            "/content/drive/MyDrive/talha_dip/B\n",
            "/content/drive/MyDrive/talha_dip/A\n",
            "/content/drive/MyDrive/talha_dip/A\n",
            "/content/drive/MyDrive/talha_dip\n",
            "['B', 'B', 'B', 'B', 'B', 'A', 'A']\n"
          ]
        }
      ]
    },
    {
      "cell_type": "code",
      "metadata": {
        "id": "aYB3FMlps7PO"
      },
      "source": [
        "import cv2\n",
        "from google.colab.patches import cv2_imshow\n",
        "\n",
        "\n",
        "for i in range(0,len(img_list)):\n",
        "  image = cv2.imread(img_list[i])\n",
        "  resize= cv2.resize(image, (300,300))\n",
        "  edges = cv2.Canny(image,100,200)\n",
        "  edge_list.append(edges)\n",
        "\n",
        " \n",
        " \n",
        "\n",
        "\n",
        "\n",
        "\n",
        "\n",
        "\n",
        "\n"
      ],
      "execution_count": null,
      "outputs": []
    },
    {
      "cell_type": "code",
      "metadata": {
        "id": "da8RtSHctor9"
      },
      "source": [
        "X = edge_list\n",
        "y = folder_label\n",
        "#cv2_imshow(img_list[1])\n",
        "import numpy as np\n",
        "from sklearn.model_selection import train_test_split\n",
        "X_train, X_test, y_train, y_test = train_test_split(X, y, test_size=0.20)"
      ],
      "execution_count": null,
      "outputs": []
    },
    {
      "cell_type": "code",
      "metadata": {
        "id": "ObWf8Naett08",
        "colab": {
          "base_uri": "https://localhost:8080/"
        },
        "outputId": "62e179ef-a641-495f-b206-d9d7d81838fe"
      },
      "source": [
        ""
      ],
      "execution_count": null,
      "outputs": [
        {
          "output_type": "execute_result",
          "data": {
            "text/plain": [
              "array([[0, 0, 0, ..., 0, 0, 0],\n",
              "       [0, 0, 0, ..., 0, 0, 0],\n",
              "       [0, 0, 0, ..., 0, 0, 0],\n",
              "       ...,\n",
              "       [0, 0, 0, ..., 0, 0, 0],\n",
              "       [0, 0, 0, ..., 0, 0, 0],\n",
              "       [0, 0, 0, ..., 0, 0, 0]], dtype=uint8)"
            ]
          },
          "metadata": {},
          "execution_count": 16
        }
      ]
    }
  ]
}