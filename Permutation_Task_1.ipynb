{
  "nbformat": 4,
  "nbformat_minor": 0,
  "metadata": {
    "colab": {
      "name": "Permutation_Task 1.ipynb",
      "provenance": [],
      "collapsed_sections": []
    },
    "kernelspec": {
      "name": "python3",
      "display_name": "Python 3"
    },
    "language_info": {
      "name": "python"
    }
  },
  "cells": [
    {
      "cell_type": "code",
      "execution_count": null,
      "metadata": {
        "id": "Fto_U9Llm9oG"
      },
      "outputs": [],
      "source": [
        "#permutations(range(3))\n",
        "def permutations(iterable, r=None):\n",
        "    # permutations('ABCD', 2) --> AB AC AD BA BC BD CA CB CD DA DB DC\n",
        "    permutations(range(3))\n",
        "    pool = tuple(iterable)\n",
        "    n = len(pool)\n",
        "    r = n if r is None else r\n",
        "    if r > n:\n",
        "        return\n",
        "    indices = range(n)\n",
        "    cycles = range(n, n-r, -1)\n",
        "    yield tuple(pool[i] for i in indices[:r])\n",
        "    while n:\n",
        "        for i in reversed(range(r)):\n",
        "            cycles[i] -= 1\n",
        "            if cycles[i] == 0:\n",
        "                indices[i:] = indices[i+1:] + indices[i:i+1]\n",
        "                cycles[i] = n - i\n",
        "            else:\n",
        "                j = cycles[i]\n",
        "                indices[i], indices[-j] = indices[-j], indices[i]\n",
        "                yield tuple(pool[i] for i in indices[:r])\n",
        "                break\n",
        "        else:\n",
        "            return\n",
        "#print(permutations)\n",
        "\n"
      ]
    },
    {
      "cell_type": "code",
      "source": [
        "import itertools\n",
        "list(itertools.permutations([1, 2, 3]))\n"
      ],
      "metadata": {
        "colab": {
          "base_uri": "https://localhost:8080/"
        },
        "id": "5JZ9v53knTuK",
        "outputId": "34c3f4b8-8700-426d-a88c-d1a95c71543e"
      },
      "execution_count": null,
      "outputs": [
        {
          "output_type": "execute_result",
          "data": {
            "text/plain": [
              "[(1, 2, 3), (1, 3, 2), (2, 1, 3), (2, 3, 1), (3, 1, 2), (3, 2, 1)]"
            ]
          },
          "metadata": {},
          "execution_count": 13
        }
      ]
    },
    {
      "cell_type": "code",
      "source": [
        "for n in range(list):\n",
        "\n",
        "  if (list[0]==0) | (list[2]==0):\n",
        "    list(itertools.permutations([i]))\n",
        "  \n",
        "  else:\n",
        "    continue\n"
      ],
      "metadata": {
        "id": "qHV-NnhknflH"
      },
      "execution_count": null,
      "outputs": []
    },
    {
      "cell_type": "code",
      "source": [
        ""
      ],
      "metadata": {
        "id": "3TLMK-shrFM4"
      },
      "execution_count": null,
      "outputs": []
    }
  ]
}