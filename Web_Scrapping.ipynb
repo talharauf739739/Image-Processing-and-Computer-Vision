{
  "nbformat": 4,
  "nbformat_minor": 0,
  "metadata": {
    "colab": {
      "name": "Web Scrapping.ipynb",
      "provenance": []
    },
    "kernelspec": {
      "name": "python3",
      "display_name": "Python 3"
    },
    "language_info": {
      "name": "python"
    }
  },
  "cells": [
    {
      "cell_type": "code",
      "metadata": {
        "id": "J_dqpU-V7lpF"
      },
      "source": [
        "#!pip install requests\n",
        "import requests\n",
        "\n",
        "import cv2\n",
        "from google.colab.patches import cv2_imshow"
      ],
      "execution_count": null,
      "outputs": []
    },
    {
      "cell_type": "code",
      "metadata": {
        "id": "0AOWPgbFBihP"
      },
      "source": [
        "#!pip install bs4"
      ],
      "execution_count": null,
      "outputs": []
    },
    {
      "cell_type": "code",
      "metadata": {
        "id": "bGPtq5mQBrIA"
      },
      "source": [
        "from bs4 import BeautifulSoup\n",
        "import urllib.request"
      ],
      "execution_count": null,
      "outputs": []
    },
    {
      "cell_type": "code",
      "metadata": {
        "id": "50Qf74o3CE1q"
      },
      "source": [
        "url = \"https://www.google.com/search?q=saree+dress+images&tbm=isch&ved=2ahUKEwih-cuvoP_zAhUNphQKHX7lCPoQ2-cCegQIABAA&oq=saree+dress+images&gs_lcp=CgNpbWcQAzIFCAAQgAQyBggAEAcQHjIGCAAQBxAeMgYIABAHEB4yCAgAEAcQBRAeMggIABAHEAUQHjIICAAQBxAFEB4yCAgAEAcQBRAeMggIABAHEAUQHjIICAAQBxAFEB46BwgjEO8DECc6BAgAEENQtRRY2SpgvS9oAXAAeACAAccCiAHFDpIBBzAuMS42LjGYAQCgAQGqAQtnd3Mtd2l6LWltZ8ABAQ&sclient=img&ei=EBuEYaGxCI3MUv7Ko9AP&bih=625&biw=1366\"\n",
        "response = requests.get(url)\n",
        "\n",
        "\n",
        "soup = BeautifulSoup(response.content, \"html.parser\")\n",
        "images = soup.find_all(\"img\", attrs = {\"alt\": \"Post image\"})\n",
        "\n",
        "Saree = []\n",
        "Saree_pix = []\n",
        "for image in images:\n",
        "  image_src = image[\"src\"]\n",
        "  print(image_src)\n",
        "  urllib.request.urlretrieve(image_src, str(number))\n",
        "  Saree.append(image) \n",
        "  pix = cv2.imread(Saree, 0)\n",
        "  Saree_pix.append(pix) \n",
        "  print(Saree_pix)\n",
        "  #print(image)\n",
        "#cv2_imshow[Saree_pix[2]] "
      ],
      "execution_count": null,
      "outputs": []
    },
    {
      "cell_type": "code",
      "metadata": {
        "id": "3sImeuTFEfGL",
        "colab": {
          "base_uri": "https://localhost:8080/",
          "height": 163
        },
        "outputId": "7045c8ff-4728-4950-c41e-5bd2ca1c3ff5"
      },
      "source": [
        "cv2_imshow[Saree_pix[0]] "
      ],
      "execution_count": null,
      "outputs": [
        {
          "output_type": "error",
          "ename": "IndexError",
          "evalue": "ignored",
          "traceback": [
            "\u001b[0;31m---------------------------------------------------------------------------\u001b[0m",
            "\u001b[0;31mIndexError\u001b[0m                                Traceback (most recent call last)",
            "\u001b[0;32m<ipython-input-56-415053dfdbc1>\u001b[0m in \u001b[0;36m<module>\u001b[0;34m()\u001b[0m\n\u001b[0;32m----> 1\u001b[0;31m \u001b[0mcv2_imshow\u001b[0m\u001b[0;34m[\u001b[0m\u001b[0mSaree_pix\u001b[0m\u001b[0;34m[\u001b[0m\u001b[0;36m0\u001b[0m\u001b[0;34m]\u001b[0m\u001b[0;34m]\u001b[0m\u001b[0;34m\u001b[0m\u001b[0;34m\u001b[0m\u001b[0m\n\u001b[0m",
            "\u001b[0;31mIndexError\u001b[0m: list index out of range"
          ]
        }
      ]
    },
    {
      "cell_type": "code",
      "metadata": {
        "id": "3yJEmqJCMzmm"
      },
      "source": [
        ""
      ],
      "execution_count": null,
      "outputs": []
    }
  ]
}