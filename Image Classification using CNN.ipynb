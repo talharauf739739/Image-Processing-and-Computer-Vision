{
  "nbformat": 4,
  "nbformat_minor": 0,
  "metadata": {
    "colab": {
      "name": " job_task_3A_updated.ipynb",
      "provenance": [],
      "collapsed_sections": []
    },
    "kernelspec": {
      "name": "python3",
      "display_name": "Python 3"
    },
    "language_info": {
      "name": "python"
    }
  },
  "cells": [
    {
      "cell_type": "code",
      "execution_count": 1,
      "metadata": {
        "colab": {
          "base_uri": "https://localhost:8080/"
        },
        "id": "fxBRy-bSCkhy",
        "outputId": "63428d8a-7df5-491e-8182-c0583250c6a7"
      },
      "outputs": [
        {
          "output_type": "stream",
          "name": "stdout",
          "text": [
            "Requirement already satisfied: opencv-python in /usr/local/lib/python3.7/dist-packages (4.1.2.30)\n",
            "Requirement already satisfied: numpy>=1.14.5 in /usr/local/lib/python3.7/dist-packages (from opencv-python) (1.21.5)\n"
          ]
        }
      ],
      "source": [
        "!pip install opencv-python"
      ]
    },
    {
      "cell_type": "markdown",
      "source": [
        "**Importing Libraries**"
      ],
      "metadata": {
        "id": "jltq-tK4FY-g"
      }
    },
    {
      "cell_type": "code",
      "source": [
        "import os\n",
        "import cv2\n",
        "import matplotlib.pyplot as plt\n",
        "import tensorflow as tf\n",
        "import numpy as np\n",
        "from tensorflow.keras.optimizers import RMSprop\n",
        "from tensorflow.keras.preprocessing import image\n",
        "from tensorflow.keras.preprocessing.image import ImageDataGenerator"
      ],
      "metadata": {
        "id": "Hz9Z5p5NC63K"
      },
      "execution_count": 2,
      "outputs": []
    },
    {
      "cell_type": "markdown",
      "source": [
        "**Get the dataset by unziping the data folder**"
      ],
      "metadata": {
        "id": "77yyeBFzF5OP"
      }
    },
    {
      "cell_type": "code",
      "source": [
        "#!unzip -q /content/Task3.zip -d ../"
      ],
      "metadata": {
        "id": "Tyy0cBUlF4RV"
      },
      "execution_count": 3,
      "outputs": []
    },
    {
      "cell_type": "markdown",
      "source": [
        "**Generate Training and Validation DataSet By use of ImageDataGenerator**"
      ],
      "metadata": {
        "id": "iYZ_KORoGpX-"
      }
    },
    {
      "cell_type": "code",
      "source": [
        "# Firstly, Change Images Pixel values b/w 0->1, We also Call it Scaling\n",
        "train = ImageDataGenerator(rescale = 1/255)\n",
        "validation = ImageDataGenerator(rescale = 1/255)\n",
        "\n",
        "\n",
        "#Generating Labels from your Directories\n",
        "train_dataset = train.flow_from_directory('/content/drive/MyDrive/Task3/Train',\n",
        "                                          target_size = (256,256),\n",
        "                                          batch_size = 5,\n",
        "                                          class_mode = 'categorical')\n",
        "\n",
        "validation_dataset = train.flow_from_directory('/content/drive/MyDrive/Task3/Validation',\n",
        "                                          target_size = (256,256),\n",
        "                                          batch_size = 5,\n",
        "                                          class_mode = 'categorical')"
      ],
      "metadata": {
        "colab": {
          "base_uri": "https://localhost:8080/"
        },
        "id": "nISfIYGFDK3C",
        "outputId": "d61e6275-b9f2-4847-d853-1b93662656c8"
      },
      "execution_count": 4,
      "outputs": [
        {
          "output_type": "stream",
          "name": "stdout",
          "text": [
            "Found 350 images belonging to 7 classes.\n",
            "Found 70 images belonging to 7 classes.\n"
          ]
        }
      ]
    },
    {
      "cell_type": "code",
      "source": [
        "train_dataset.class_indices"
      ],
      "metadata": {
        "colab": {
          "base_uri": "https://localhost:8080/"
        },
        "id": "E_oGt7oPKdRB",
        "outputId": "180f7d2f-fc97-40d9-abd4-73ececa472d4"
      },
      "execution_count": 5,
      "outputs": [
        {
          "output_type": "execute_result",
          "data": {
            "text/plain": [
              "{'Do Not Enter': 0,\n",
              " 'Information': 1,\n",
              " 'Left Turn': 2,\n",
              " 'Object Marker': 3,\n",
              " 'School': 4,\n",
              " 'Speed Limit': 5,\n",
              " 'Stop': 6}"
            ]
          },
          "metadata": {},
          "execution_count": 5
        }
      ]
    },
    {
      "cell_type": "markdown",
      "source": [
        "**Defining a Model**"
      ],
      "metadata": {
        "id": "AJgP34nlOp0g"
      }
    },
    {
      "cell_type": "code",
      "source": [
        "model = tf.keras.models.Sequential([tf.keras.layers.Conv2D(16,(3,3), activation= 'relu', input_shape = (256,256,3)),\n",
        "                                    tf.keras.layers.MaxPool2D(2,2),\n",
        "                                    #\n",
        "                                    tf.keras.layers.Conv2D(32,(3,3), activation= 'relu'),\n",
        "                                    tf.keras.layers.MaxPool2D(2,2),\n",
        "                                    #\n",
        "                                    tf.keras.layers.Conv2D(128,(3,3), activation= 'relu'),\n",
        "                                    tf.keras.layers.MaxPool2D(2,2),\n",
        "                                    #\n",
        "                                    tf.keras.layers.Conv2D(256,(3,3), activation= 'relu'),\n",
        "                                    tf.keras.layers.MaxPool2D(2,2),\n",
        "                                    #\n",
        "                                    tf.keras.layers.Flatten(),\n",
        "                                    #\n",
        "                                    tf.keras.layers.Dense(512, activation = 'relu'),\n",
        "                                    #\n",
        "                                    tf.keras.layers.Dense(1, activation = 'Softmax')\n",
        "                                    ])"
      ],
      "metadata": {
        "id": "6G1viioFOXBB"
      },
      "execution_count": 6,
      "outputs": []
    },
    {
      "cell_type": "markdown",
      "source": [
        "**Compilation Of Model**"
      ],
      "metadata": {
        "id": "YsLPJ1f6V9Hm"
      }
    },
    {
      "cell_type": "code",
      "source": [
        "model.compile(loss = 'categorical_crossentropy',\n",
        "              optimizer = RMSprop(learning_rate = 0.001),\n",
        "              metrics = ['accuracy'])"
      ],
      "metadata": {
        "id": "xpNtHIgeV8NG"
      },
      "execution_count": 7,
      "outputs": []
    },
    {
      "cell_type": "markdown",
      "source": [
        "**Fitting the Model**"
      ],
      "metadata": {
        "id": "gHMruJQFYDVB"
      }
    },
    {
      "cell_type": "code",
      "source": [
        "model_fit = model.fit(train_dataset,\n",
        "                      steps_per_epoch = 3,\n",
        "                      epochs = 6,\n",
        "                      validation_data = validation_dataset)"
      ],
      "metadata": {
        "colab": {
          "base_uri": "https://localhost:8080/"
        },
        "id": "Mmn45OY7V31F",
        "outputId": "bf8cc307-1c80-4ddb-9c3e-c4de965bd9c7"
      },
      "execution_count": 9,
      "outputs": [
        {
          "output_type": "stream",
          "name": "stdout",
          "text": [
            "Epoch 1/6\n",
            "3/3 [==============================] - 35s 16s/step - loss: 16.5399 - accuracy: 0.8286 - val_loss: 1.9784 - val_accuracy: 0.8571\n",
            "Epoch 2/6\n",
            "3/3 [==============================] - 8s 3s/step - loss: 1.9776 - accuracy: 0.8571 - val_loss: 2.4143 - val_accuracy: 0.8327\n",
            "Epoch 3/6\n",
            "3/3 [==============================] - 7s 2s/step - loss: 1.9086 - accuracy: 0.8476 - val_loss: 2.0825 - val_accuracy: 0.8571\n",
            "Epoch 4/6\n",
            "3/3 [==============================] - 7s 2s/step - loss: 1.8417 - accuracy: 0.8476 - val_loss: 1.9790 - val_accuracy: 0.8571\n",
            "Epoch 5/6\n",
            "3/3 [==============================] - 8s 3s/step - loss: 1.9520 - accuracy: 0.8571 - val_loss: 1.9438 - val_accuracy: 0.8571\n",
            "Epoch 6/6\n",
            "3/3 [==============================] - 6s 2s/step - loss: 1.9756 - accuracy: 0.8571 - val_loss: 1.9375 - val_accuracy: 0.8571\n"
          ]
        }
      ]
    },
    {
      "cell_type": "code",
      "source": [
        "import os\n",
        "#import cv2 as cv\n",
        "import numpy as np\n",
        "import cv2\n",
        "from google.colab.patches import cv2_imshow\n",
        "import glob as gb\n",
        "path=\"/content/drive/MyDrive/Task3/Test\"\n",
        "main_folder = os.listdir(path)\n",
        "#picture = os.listdir(main_folder)\n",
        "img_list = []\n",
        "binary_list = []\n",
        "folder_belonging = []\n",
        "folder_label=[]\n",
        "for n in range(0,len(main_folder)):\n",
        "  if main_folder[n]==\".ipynb_checkpoints\":\n",
        "    #print(main_folder[i])\n",
        "    continue\n",
        "  pics = path + \"/\" + main_folder[n]\n",
        "  for m in os.listdir(pics):\n",
        "    x = pics + \"/\" + m\n",
        "    imagess = cv2.imread(x)\n",
        "    img_list.append(imagess)\n",
        "    folder_belonging.append(pics)\n",
        "    print(pics)\n",
        "    folder_label.append(main_folder[n])\n",
        "#print(path)\n",
        "print(folder_label)\n",
        "#print(img_list)"
      ],
      "metadata": {
        "id": "E4bLm1PUk1Ux",
        "colab": {
          "base_uri": "https://localhost:8080/"
        },
        "outputId": "58bdce5e-b0bb-4549-ce3e-569e53188db8"
      },
      "execution_count": 10,
      "outputs": [
        {
          "output_type": "stream",
          "name": "stdout",
          "text": [
            "/content/drive/MyDrive/Task3/Test/Stop\n",
            "/content/drive/MyDrive/Task3/Test/Stop\n",
            "/content/drive/MyDrive/Task3/Test/Stop\n",
            "/content/drive/MyDrive/Task3/Test/Stop\n",
            "/content/drive/MyDrive/Task3/Test/Stop\n",
            "/content/drive/MyDrive/Task3/Test/Stop\n",
            "/content/drive/MyDrive/Task3/Test/Stop\n",
            "/content/drive/MyDrive/Task3/Test/Stop\n",
            "/content/drive/MyDrive/Task3/Test/Stop\n",
            "/content/drive/MyDrive/Task3/Test/Stop\n",
            "/content/drive/MyDrive/Task3/Test/Left Turn\n",
            "/content/drive/MyDrive/Task3/Test/Left Turn\n",
            "/content/drive/MyDrive/Task3/Test/Left Turn\n",
            "/content/drive/MyDrive/Task3/Test/Left Turn\n",
            "/content/drive/MyDrive/Task3/Test/Left Turn\n",
            "/content/drive/MyDrive/Task3/Test/Left Turn\n",
            "/content/drive/MyDrive/Task3/Test/Left Turn\n",
            "/content/drive/MyDrive/Task3/Test/Left Turn\n",
            "/content/drive/MyDrive/Task3/Test/Left Turn\n",
            "/content/drive/MyDrive/Task3/Test/Left Turn\n",
            "/content/drive/MyDrive/Task3/Test/Speed Limit\n",
            "/content/drive/MyDrive/Task3/Test/Speed Limit\n",
            "/content/drive/MyDrive/Task3/Test/Speed Limit\n",
            "/content/drive/MyDrive/Task3/Test/Speed Limit\n",
            "/content/drive/MyDrive/Task3/Test/Speed Limit\n",
            "/content/drive/MyDrive/Task3/Test/Speed Limit\n",
            "/content/drive/MyDrive/Task3/Test/Speed Limit\n",
            "/content/drive/MyDrive/Task3/Test/Speed Limit\n",
            "/content/drive/MyDrive/Task3/Test/Speed Limit\n",
            "/content/drive/MyDrive/Task3/Test/Speed Limit\n",
            "/content/drive/MyDrive/Task3/Test/Object Marker\n",
            "/content/drive/MyDrive/Task3/Test/Object Marker\n",
            "/content/drive/MyDrive/Task3/Test/Object Marker\n",
            "/content/drive/MyDrive/Task3/Test/Object Marker\n",
            "/content/drive/MyDrive/Task3/Test/Object Marker\n",
            "/content/drive/MyDrive/Task3/Test/Object Marker\n",
            "/content/drive/MyDrive/Task3/Test/Object Marker\n",
            "/content/drive/MyDrive/Task3/Test/Object Marker\n",
            "/content/drive/MyDrive/Task3/Test/Object Marker\n",
            "/content/drive/MyDrive/Task3/Test/Object Marker\n",
            "/content/drive/MyDrive/Task3/Test/Information\n",
            "/content/drive/MyDrive/Task3/Test/Information\n",
            "/content/drive/MyDrive/Task3/Test/Information\n",
            "/content/drive/MyDrive/Task3/Test/Information\n",
            "/content/drive/MyDrive/Task3/Test/Information\n",
            "/content/drive/MyDrive/Task3/Test/Information\n",
            "/content/drive/MyDrive/Task3/Test/Information\n",
            "/content/drive/MyDrive/Task3/Test/Information\n",
            "/content/drive/MyDrive/Task3/Test/Information\n",
            "/content/drive/MyDrive/Task3/Test/Information\n",
            "/content/drive/MyDrive/Task3/Test/School\n",
            "/content/drive/MyDrive/Task3/Test/School\n",
            "/content/drive/MyDrive/Task3/Test/School\n",
            "/content/drive/MyDrive/Task3/Test/School\n",
            "/content/drive/MyDrive/Task3/Test/School\n",
            "/content/drive/MyDrive/Task3/Test/School\n",
            "/content/drive/MyDrive/Task3/Test/School\n",
            "/content/drive/MyDrive/Task3/Test/School\n",
            "/content/drive/MyDrive/Task3/Test/School\n",
            "/content/drive/MyDrive/Task3/Test/School\n",
            "/content/drive/MyDrive/Task3/Test/Do Not Enter\n",
            "/content/drive/MyDrive/Task3/Test/Do Not Enter\n",
            "/content/drive/MyDrive/Task3/Test/Do Not Enter\n",
            "/content/drive/MyDrive/Task3/Test/Do Not Enter\n",
            "/content/drive/MyDrive/Task3/Test/Do Not Enter\n",
            "/content/drive/MyDrive/Task3/Test/Do Not Enter\n",
            "/content/drive/MyDrive/Task3/Test/Do Not Enter\n",
            "/content/drive/MyDrive/Task3/Test/Do Not Enter\n",
            "/content/drive/MyDrive/Task3/Test/Do Not Enter\n",
            "/content/drive/MyDrive/Task3/Test/Do Not Enter\n",
            "['Stop', 'Stop', 'Stop', 'Stop', 'Stop', 'Stop', 'Stop', 'Stop', 'Stop', 'Stop', 'Left Turn', 'Left Turn', 'Left Turn', 'Left Turn', 'Left Turn', 'Left Turn', 'Left Turn', 'Left Turn', 'Left Turn', 'Left Turn', 'Speed Limit', 'Speed Limit', 'Speed Limit', 'Speed Limit', 'Speed Limit', 'Speed Limit', 'Speed Limit', 'Speed Limit', 'Speed Limit', 'Speed Limit', 'Object Marker', 'Object Marker', 'Object Marker', 'Object Marker', 'Object Marker', 'Object Marker', 'Object Marker', 'Object Marker', 'Object Marker', 'Object Marker', 'Information', 'Information', 'Information', 'Information', 'Information', 'Information', 'Information', 'Information', 'Information', 'Information', 'School', 'School', 'School', 'School', 'School', 'School', 'School', 'School', 'School', 'School', 'Do Not Enter', 'Do Not Enter', 'Do Not Enter', 'Do Not Enter', 'Do Not Enter', 'Do Not Enter', 'Do Not Enter', 'Do Not Enter', 'Do Not Enter', 'Do Not Enter']\n"
          ]
        }
      ]
    },
    {
      "cell_type": "code",
      "source": [
        "!pip install -c fastai fastai\n",
        "import cv2\n",
        "from google.colab.patches import cv2_imshow\n",
        "\n",
        "test_images = []\n",
        "for n in range(0,len([img_list])):\n",
        "  image = cv2.imread(img_list[n])\n",
        "  resize= cv2.resize(img_list[n], (256,256),3)\n",
        "  test_images.append(resize)\n",
        "  #plt.show()\n",
        "  task_3_testing = model.predict([test_images])\n",
        "\n",
        "  if task_3_testing==0:\n",
        "    print('Do Not Enter')\n",
        "  elif task_3_testing==1:\n",
        "    print('Information')\n",
        "  elif task_3_testing==2:\n",
        "    print('Left Turn')\n",
        "  elif task_3_testing==3:\n",
        "    print('Object Marker')\n",
        "  elif task_3_testing==4:\n",
        "    print('School')\n",
        "  elif task_3_testing==5:\n",
        "    print('Speed Limit')\n",
        "  elif task_3_testing==6:\n",
        "    print('Stop')"
      ],
      "metadata": {
        "id": "Ljp1-bqilqKG",
        "colab": {
          "base_uri": "https://localhost:8080/",
          "height": 263
        },
        "outputId": "734dc5cd-1683-4457-f756-a17ea3ccedc0"
      },
      "execution_count": 11,
      "outputs": [
        {
          "output_type": "stream",
          "name": "stdout",
          "text": [
            "\u001b[31mERROR: Could not open requirements file: [Errno 2] No such file or directory: 'fastai'\u001b[0m\n"
          ]
        },
        {
          "output_type": "error",
          "ename": "SystemError",
          "evalue": "ignored",
          "traceback": [
            "\u001b[0;31m---------------------------------------------------------------------------\u001b[0m",
            "\u001b[0;31mSystemError\u001b[0m                               Traceback (most recent call last)",
            "\u001b[0;32m<ipython-input-11-8dde2db23be9>\u001b[0m in \u001b[0;36m<module>\u001b[0;34m()\u001b[0m\n\u001b[1;32m      5\u001b[0m \u001b[0mtest_images\u001b[0m \u001b[0;34m=\u001b[0m \u001b[0;34m[\u001b[0m\u001b[0;34m]\u001b[0m\u001b[0;34m\u001b[0m\u001b[0;34m\u001b[0m\u001b[0m\n\u001b[1;32m      6\u001b[0m \u001b[0;32mfor\u001b[0m \u001b[0mn\u001b[0m \u001b[0;32min\u001b[0m \u001b[0mrange\u001b[0m\u001b[0;34m(\u001b[0m\u001b[0;36m0\u001b[0m\u001b[0;34m,\u001b[0m\u001b[0mlen\u001b[0m\u001b[0;34m(\u001b[0m\u001b[0;34m[\u001b[0m\u001b[0mimg_list\u001b[0m\u001b[0;34m]\u001b[0m\u001b[0;34m)\u001b[0m\u001b[0;34m)\u001b[0m\u001b[0;34m:\u001b[0m\u001b[0;34m\u001b[0m\u001b[0;34m\u001b[0m\u001b[0m\n\u001b[0;32m----> 7\u001b[0;31m   \u001b[0mimage\u001b[0m \u001b[0;34m=\u001b[0m \u001b[0mcv2\u001b[0m\u001b[0;34m.\u001b[0m\u001b[0mimread\u001b[0m\u001b[0;34m(\u001b[0m\u001b[0mimg_list\u001b[0m\u001b[0;34m[\u001b[0m\u001b[0mn\u001b[0m\u001b[0;34m]\u001b[0m\u001b[0;34m)\u001b[0m\u001b[0;34m\u001b[0m\u001b[0;34m\u001b[0m\u001b[0m\n\u001b[0m\u001b[1;32m      8\u001b[0m   \u001b[0mresize\u001b[0m\u001b[0;34m=\u001b[0m \u001b[0mcv2\u001b[0m\u001b[0;34m.\u001b[0m\u001b[0mresize\u001b[0m\u001b[0;34m(\u001b[0m\u001b[0mimg_list\u001b[0m\u001b[0;34m[\u001b[0m\u001b[0mn\u001b[0m\u001b[0;34m]\u001b[0m\u001b[0;34m,\u001b[0m \u001b[0;34m(\u001b[0m\u001b[0;36m256\u001b[0m\u001b[0;34m,\u001b[0m\u001b[0;36m256\u001b[0m\u001b[0;34m)\u001b[0m\u001b[0;34m,\u001b[0m\u001b[0;36m3\u001b[0m\u001b[0;34m)\u001b[0m\u001b[0;34m\u001b[0m\u001b[0;34m\u001b[0m\u001b[0m\n\u001b[1;32m      9\u001b[0m   \u001b[0mtest_images\u001b[0m\u001b[0;34m.\u001b[0m\u001b[0mappend\u001b[0m\u001b[0;34m(\u001b[0m\u001b[0mresize\u001b[0m\u001b[0;34m)\u001b[0m\u001b[0;34m\u001b[0m\u001b[0;34m\u001b[0m\u001b[0m\n",
            "\u001b[0;31mSystemError\u001b[0m: <built-in function imread> returned NULL without setting an error"
          ]
        }
      ]
    },
    {
      "cell_type": "code",
      "source": [
        ""
      ],
      "metadata": {
        "id": "aO7U6C1peQGR"
      },
      "execution_count": null,
      "outputs": []
    }
  ]
}