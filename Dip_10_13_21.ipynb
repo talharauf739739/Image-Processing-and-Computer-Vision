{
  "nbformat": 4,
  "nbformat_minor": 0,
  "metadata": {
    "colab": {
      "name": "Dip_10_13_21.ipynb",
      "provenance": []
    },
    "kernelspec": {
      "name": "python3",
      "display_name": "Python 3"
    },
    "language_info": {
      "name": "python"
    }
  },
  "cells": [
    {
      "cell_type": "code",
      "metadata": {
        "colab": {
          "base_uri": "https://localhost:8080/"
        },
        "id": "jRnIQPTj79MU",
        "outputId": "6f50f0c8-5c2c-4948-dfca-b62b8404c2d6"
      },
      "source": [
        "#!pip install opencv-python\n",
        "\n",
        "\n",
        "import os\n",
        "#import cv2 as cv\n",
        "import numpy as np\n",
        "import cv2\n",
        "from google.colab.patches import cv2_imshow\n",
        "import glob as gb\n",
        "path=\"/content/drive/MyDrive/training\"\n",
        "main_folder = os.listdir(path)\n",
        "#picture = os.listdir(main_folder)\n",
        "img_list = []\n",
        "edge_list = []\n",
        "folder_belonging = []\n",
        "folder_label=[]\n",
        "for n in range(0,len(main_folder)):\n",
        "  pics = path + \"/\" + main_folder[n]\n",
        "  for m in os.listdir(pics):\n",
        "    x = pics + \"/\" + m\n",
        "    img_list.append(x)\n",
        "    folder_belonging.append(pics)\n",
        "    print(pics)\n",
        "    folder_label.append(main_folder[n])\n",
        "print(path)\n",
        "print(folder_label)\n",
        "#print(img_list)\n",
        "\n"
      ],
      "execution_count": null,
      "outputs": [
        {
          "output_type": "stream",
          "name": "stdout",
          "text": [
            "/content/drive/MyDrive/training/images_of_animals\n",
            "/content/drive/MyDrive/training/images_of_animals\n",
            "/content/drive/MyDrive/training/images_of_animals\n",
            "/content/drive/MyDrive/training/images_of_animals\n",
            "/content/drive/MyDrive/training/images_of_animals\n",
            "/content/drive/MyDrive/training/images_of_animals\n",
            "/content/drive/MyDrive/training/images_of_animals\n",
            "/content/drive/MyDrive/training/images_of_animals\n",
            "/content/drive/MyDrive/training/images_of_animals\n",
            "/content/drive/MyDrive/training/images_of_animals\n",
            "/content/drive/MyDrive/training/images_of_animals\n",
            "/content/drive/MyDrive/training/images_of_animals\n",
            "/content/drive/MyDrive/training/images_of_animals\n",
            "/content/drive/MyDrive/training/images_of_animals\n",
            "/content/drive/MyDrive/training/images_of_animals\n",
            "/content/drive/MyDrive/training/images_of_animals\n",
            "/content/drive/MyDrive/training/images_of_animals\n",
            "/content/drive/MyDrive/training/images_of_animals\n",
            "/content/drive/MyDrive/training/images_of_animals\n",
            "/content/drive/MyDrive/training/images_of_animals\n",
            "/content/drive/MyDrive/training/images_of_birds\n",
            "/content/drive/MyDrive/training/images_of_birds\n",
            "/content/drive/MyDrive/training/images_of_birds\n",
            "/content/drive/MyDrive/training/images_of_birds\n",
            "/content/drive/MyDrive/training/images_of_birds\n",
            "/content/drive/MyDrive/training/images_of_birds\n",
            "/content/drive/MyDrive/training/images_of_birds\n",
            "/content/drive/MyDrive/training/images_of_birds\n",
            "/content/drive/MyDrive/training/images_of_birds\n",
            "/content/drive/MyDrive/training/images_of_birds\n",
            "/content/drive/MyDrive/training/images_of_birds\n",
            "/content/drive/MyDrive/training/images_of_birds\n",
            "/content/drive/MyDrive/training/images_of_birds\n",
            "/content/drive/MyDrive/training/images_of_birds\n",
            "/content/drive/MyDrive/training/images_of_birds\n",
            "/content/drive/MyDrive/training/images_of_birds\n",
            "/content/drive/MyDrive/training/images_of_birds\n",
            "/content/drive/MyDrive/training/images_of_birds\n",
            "/content/drive/MyDrive/training/images_of_birds\n",
            "/content/drive/MyDrive/training/images_of_birds\n",
            "/content/drive/MyDrive/training\n",
            "['images_of_animals', 'images_of_animals', 'images_of_animals', 'images_of_animals', 'images_of_animals', 'images_of_animals', 'images_of_animals', 'images_of_animals', 'images_of_animals', 'images_of_animals', 'images_of_animals', 'images_of_animals', 'images_of_animals', 'images_of_animals', 'images_of_animals', 'images_of_animals', 'images_of_animals', 'images_of_animals', 'images_of_animals', 'images_of_animals', 'images_of_birds', 'images_of_birds', 'images_of_birds', 'images_of_birds', 'images_of_birds', 'images_of_birds', 'images_of_birds', 'images_of_birds', 'images_of_birds', 'images_of_birds', 'images_of_birds', 'images_of_birds', 'images_of_birds', 'images_of_birds', 'images_of_birds', 'images_of_birds', 'images_of_birds', 'images_of_birds', 'images_of_birds', 'images_of_birds']\n"
          ]
        }
      ]
    },
    {
      "cell_type": "code",
      "metadata": {
        "id": "PHkBDv7v8ECQ"
      },
      "source": [
        "import cv2\n",
        "from google.colab.patches import cv2_imshow\n",
        "\n",
        "\n",
        "for i in range(0,len(img_list)):\n",
        "  image = cv2.imread(img_list[i])\n",
        "  resize= cv2.resize(image, (200,200))\n",
        "  edges = cv2.Canny(image,100,200)\n",
        "  edge_list.append(edges)"
      ],
      "execution_count": null,
      "outputs": []
    },
    {
      "cell_type": "code",
      "metadata": {
        "id": "lgYTA0wD8Yjc"
      },
      "source": [
        "X = edge_list\n",
        "y = folder_label\n",
        "#cv2_imshow(img_list[1])\n",
        "import numpy as np\n",
        "from sklearn.model_selection import train_test_split\n",
        "X_train, X_test, y_train, y_test = train_test_split(X, y, test_size=0.10)"
      ],
      "execution_count": null,
      "outputs": []
    },
    {
      "cell_type": "code",
      "metadata": {
        "colab": {
          "base_uri": "https://localhost:8080/",
          "height": 231
        },
        "id": "s99OnHuX83Iy",
        "outputId": "05a21442-1e9f-4a78-85bf-bcd7c00e4eb1"
      },
      "source": [
        "X_test = np.array(X_test)\n",
        "y_train = np.array(y_train)\n",
        "y_test = np.array(y_test)\n",
        "print(\"X_train shape\", X_train.shape)\n",
        "print(\"y_train shape\", y_train.shape)\n",
        "print(\"y_test shape\", y_test.shape)\n",
        "X_train = X_train.reshape(len(X_train), image_new[1], size)\n",
        "X_test = X_test.reshape(len(X_test), image_new[1], size)\n",
        "X_train = X_train.astype('float32')\n",
        "X_test = X_test.astype('float32')\n",
        "\n",
        "#Normalizing the data to help with the training\n",
        "X_train /= 255\n",
        "\n",
        "\n",
        "\n",
        "\n",
        "\n",
        "\n",
        "\n",
        "\n",
        "\n",
        "\n",
        "\n",
        "\n",
        "\n",
        "\n",
        "\n",
        "\n",
        "\n",
        "\n",
        "\n",
        "\n",
        "\n",
        "\n",
        "\n",
        "\n"
      ],
      "execution_count": null,
      "outputs": [
        {
          "output_type": "error",
          "ename": "NameError",
          "evalue": "ignored",
          "traceback": [
            "\u001b[0;31m---------------------------------------------------------------------------\u001b[0m",
            "\u001b[0;31mNameError\u001b[0m                                 Traceback (most recent call last)",
            "\u001b[0;32m<ipython-input-2-5e5a8aa37c0b>\u001b[0m in \u001b[0;36m<module>\u001b[0;34m()\u001b[0m\n\u001b[0;32m----> 1\u001b[0;31m \u001b[0mX_test\u001b[0m \u001b[0;34m=\u001b[0m \u001b[0mnp\u001b[0m\u001b[0;34m.\u001b[0m\u001b[0marray\u001b[0m\u001b[0;34m(\u001b[0m\u001b[0mX_test\u001b[0m\u001b[0;34m)\u001b[0m\u001b[0;34m\u001b[0m\u001b[0;34m\u001b[0m\u001b[0m\n\u001b[0m\u001b[1;32m      2\u001b[0m \u001b[0my_train\u001b[0m \u001b[0;34m=\u001b[0m \u001b[0mnp\u001b[0m\u001b[0;34m.\u001b[0m\u001b[0marray\u001b[0m\u001b[0;34m(\u001b[0m\u001b[0my_train\u001b[0m\u001b[0;34m)\u001b[0m\u001b[0;34m\u001b[0m\u001b[0;34m\u001b[0m\u001b[0m\n\u001b[1;32m      3\u001b[0m \u001b[0my_test\u001b[0m \u001b[0;34m=\u001b[0m \u001b[0mnp\u001b[0m\u001b[0;34m.\u001b[0m\u001b[0marray\u001b[0m\u001b[0;34m(\u001b[0m\u001b[0my_test\u001b[0m\u001b[0;34m)\u001b[0m\u001b[0;34m\u001b[0m\u001b[0;34m\u001b[0m\u001b[0m\n\u001b[1;32m      4\u001b[0m \u001b[0mprint\u001b[0m\u001b[0;34m(\u001b[0m\u001b[0;34m\"X_train shape\"\u001b[0m\u001b[0;34m,\u001b[0m \u001b[0mX_train\u001b[0m\u001b[0;34m.\u001b[0m\u001b[0mshape\u001b[0m\u001b[0;34m)\u001b[0m\u001b[0;34m\u001b[0m\u001b[0;34m\u001b[0m\u001b[0m\n\u001b[1;32m      5\u001b[0m \u001b[0mprint\u001b[0m\u001b[0;34m(\u001b[0m\u001b[0;34m\"y_train shape\"\u001b[0m\u001b[0;34m,\u001b[0m \u001b[0my_train\u001b[0m\u001b[0;34m.\u001b[0m\u001b[0mshape\u001b[0m\u001b[0;34m)\u001b[0m\u001b[0;34m\u001b[0m\u001b[0;34m\u001b[0m\u001b[0m\n",
            "\u001b[0;31mNameError\u001b[0m: name 'X_test' is not defined"
          ]
        }
      ]
    },
    {
      "cell_type": "code",
      "metadata": {
        "id": "jZFD039_xCif"
      },
      "source": [
        "#Import knearest neighbors Classifier model\n",
        "from sklearn.neighbors import KNeighborsClassifier\n",
        "\n",
        "#Create KNN Classifier\n",
        "knn = KNeighborsClassifier(n_neighbors=3)\n",
        "\n",
        "#Train the model using the training sets\n",
        "knn.fit(X_train, y_train)\n",
        "\n",
        "#Predict the response for test dataset\n",
        "y_pred = knn.predict(X_test)\n",
        "\n",
        "\n",
        "\n",
        "\n",
        "#Import scikit-learn metrics module for accuracy calculation\n",
        "from sklearn import metrics\n",
        "# Model Accuracy, how often is the classifier correct?\n",
        "print(\"Accuracy:\",metrics.accuracy_score(y_test, y_pred))\n",
        "\n",
        "\n",
        "\n"
      ],
      "execution_count": null,
      "outputs": []
    },
    {
      "cell_type": "code",
      "metadata": {
        "id": "s0Jh-1D35sVE"
      },
      "source": [
        "_from google.colab import drive\n",
        "drive.mount('/content/drive')"
      ],
      "execution_count": null,
      "outputs": []
    }
  ]
}