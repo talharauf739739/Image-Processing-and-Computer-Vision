{
  "nbformat": 4,
  "nbformat_minor": 0,
  "metadata": {
    "colab": {
      "provenance": []
    },
    "kernelspec": {
      "name": "python3",
      "display_name": "Python 3"
    },
    "language_info": {
      "name": "python"
    }
  },
  "cells": [
    {
      "cell_type": "markdown",
      "source": [
        "**Crop and Detect Specific Portion From an Image, On the Basis of it's %age of Existance**"
      ],
      "metadata": {
        "id": "uj11Ije2HskQ"
      }
    },
    {
      "cell_type": "code",
      "source": [
        "import cv2\n",
        "from google.colab.patches import cv2_imshow\n",
        "import imutils  # https://pypi.org/project/imutils/\n",
        "\n",
        "# Read input image\n",
        "img = cv2.imread('/content/pictorial-proof-l7t3d.png')\n",
        "\n",
        "# Convert from BGR to HSV color space\n",
        "hsv = cv2.cvtColor(img, cv2.COLOR_BGR2HSV)\n",
        "\n",
        "# Get the saturation plane - all black/white/gray pixels are zero, and colored pixels are above zero.\n",
        "s = hsv[:, :, 1]\n",
        "\n",
        "cv2.imwrite('s.png', s)\n",
        "\n",
        "# Apply threshold on s - use automatic threshold algorithm (use THRESH_OTSU).\n",
        "ret, thresh = cv2.threshold(s, 0, 255, cv2.THRESH_BINARY+cv2.THRESH_OTSU)\n",
        "\n",
        "# Find contours\n",
        "cnts = cv2.findContours(thresh, cv2.RETR_EXTERNAL, cv2.CHAIN_APPROX_NONE)\n",
        "cnts = imutils.grab_contours(cnts)\n",
        "\n",
        "# Find the contour with the maximum area.\n",
        "c = max(cnts, key=cv2.contourArea)\n",
        "\n",
        "# Get bounding rectangle\n",
        "x, y, w, h = cv2.boundingRect(c)\n",
        "\n",
        "# Crop the bounding rectangle out of img\n",
        "out = img[y:y+h, x:x+w, :].copy()\n",
        "cv2_imshow(out)"
      ],
      "metadata": {
        "id": "5tpU6MLCHtLP"
      },
      "execution_count": null,
      "outputs": []
    },
    {
      "cell_type": "markdown",
      "source": [
        "**Detecting an Specific Portion from an Image, on the basis of it's Color**"
      ],
      "metadata": {
        "id": "fAMcB0GOIp4_"
      }
    },
    {
      "cell_type": "code",
      "source": [
        "\n",
        "\n",
        "#!/usr/bin/env python3\n",
        "\n",
        "from PIL import Image\n",
        "import numpy as np\n",
        "\n",
        "# Open image and make into Numpy array\n",
        "im = Image.open('image.png').convert('RGB')\n",
        "na = np.array(im)\n",
        "\n",
        "# Find X,Y coordinates of all yellow pixels\n",
        "yellowY, yellowX = np.where(np.all(na==[247,213,83],axis=2))\n",
        "\n",
        "# Find first and last row containing yellow pixels\n",
        "top, bottom = yellowY[0], yellowY[-1]\n",
        "# Find first and last column containing yellow pixels\n",
        "left, right = yellowX[0], yellowX[-1]\n",
        "\n",
        "# Extract Region of Interest\n",
        "ROI=na[top:bottom, left:right]\n",
        "\n",
        "Image.fromarray(ROI).save('result.png')"
      ],
      "metadata": {
        "id": "e_e7SYtqH2FU"
      },
      "execution_count": null,
      "outputs": []
    },
    {
      "cell_type": "markdown",
      "source": [
        "**Using HSV for Detecting Specific Portion from Image**\n",
        "\n",
        "The first stage I suggest is converting the image from RGB color space to HSV color space.\n",
        "The S color channel in HSV space, is the \"color saturation channel\".\n",
        "All colorless (gray/black/white) are zeros and yellow pixels are above zeros in the S channel.\n",
        "\n",
        "Next stages:\n",
        "\n",
        "Apply threshold on S channel (convert it to binary image).\n",
        "The yellow pixels goes to 255, and other goes to zero.\n",
        "Find contours in thresh (find only the outer contour - only the rectangle).\n",
        "Invert polarity of the pixels inside the rectangle.\n",
        "The gray triangles become 255, and other pixels are zeros.\n",
        "Find contours in thresh - find the gray triangles.\n"
      ],
      "metadata": {
        "id": "mAJaeoA_IWTG"
      }
    },
    {
      "cell_type": "code",
      "source": [
        "import numpy as np\n",
        "import cv2\n",
        "\n",
        "# Read input image\n",
        "img = cv2.imread('img.png')\n",
        "\n",
        "# Convert from BGR to HSV color space\n",
        "hsv = cv2.cvtColor(img, cv2.COLOR_BGR2HSV)\n",
        "\n",
        "# Get the saturation plane - all black/white/gray pixels are zero, and colored pixels are above zero.\n",
        "s = hsv[:, :, 1]\n",
        "\n",
        "# Apply threshold on s - use automatic threshold algorithm (use THRESH_OTSU).\n",
        "ret, thresh = cv2.threshold(s, 0, 255, cv2.THRESH_BINARY+cv2.THRESH_OTSU)\n",
        "\n",
        "# Find contours in thresh (find only the outer contour - only the rectangle).\n",
        "contours = cv2.findContours(thresh, cv2.RETR_EXTERNAL, cv2.CHAIN_APPROX_NONE)[-2]  # [-2] indexing takes return value before last (due to OpenCV compatibility issues).\n",
        "\n",
        "# Mark rectangle with green line\n",
        "cv2.drawContours(img, contours, -1, (0, 255, 0), 2)\n",
        "\n",
        "# Assume there is only one contour, get the bounding rectangle of the contour.\n",
        "x, y, w, h = cv2.boundingRect(contours[0])\n",
        "\n",
        "# Invert polarity of the pixels inside the rectangle (on thresh image).\n",
        "thresh[y:y+h, x:x+w] = 255 - thresh[y:y+h, x:x+w]\n",
        "\n",
        "# Find contours in thresh (find the triangles).\n",
        "contours = cv2.findContours(thresh, cv2.RETR_EXTERNAL, cv2.CHAIN_APPROX_NONE)[-2]  # [-2] indexing takes return value before last (due to OpenCV compatibility issues).\n",
        "\n",
        "# Iterate triangle contours\n",
        "for c in contours:\n",
        "    if cv2.contourArea(c) > 4:  #  Ignore very small contours\n",
        "        # Mark triangle with blue line\n",
        "        cv2.drawContours(img, [c], -1, (255, 0, 0), 2)\n",
        "\n",
        "# Show result (for testing).\n",
        "cv2.imshow('img', img)\n",
        "cv2.waitKey(0)\n",
        "cv2.destroyAllWindows()"
      ],
      "metadata": {
        "id": "dcCBKrOtIMcb"
      },
      "execution_count": null,
      "outputs": []
    }
  ]
}